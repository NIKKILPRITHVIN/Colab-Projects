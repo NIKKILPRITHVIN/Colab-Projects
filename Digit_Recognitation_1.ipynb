{
  "nbformat": 4,
  "nbformat_minor": 0,
  "metadata": {
    "colab": {
      "name": "Digit Recognitation-1.ipynb",
      "provenance": [],
      "authorship_tag": "ABX9TyOpUemv1+6gnXUXaA3z/9mF",
      "include_colab_link": true
    },
    "kernelspec": {
      "name": "python3",
      "display_name": "Python 3"
    },
    "language_info": {
      "name": "python"
    }
  },
  "cells": [
    {
      "cell_type": "markdown",
      "metadata": {
        "id": "view-in-github",
        "colab_type": "text"
      },
      "source": [
        "<a href=\"https://colab.research.google.com/github/NIKKILPRITHVIN/Colab-Projects/blob/main/Digit_Recognitation_1.ipynb\" target=\"_parent\"><img src=\"https://colab.research.google.com/assets/colab-badge.svg\" alt=\"Open In Colab\"/></a>"
      ]
    },
    {
      "cell_type": "code",
      "metadata": {
        "id": "dh90y1nO88Lw"
      },
      "source": [
        "import cv2\n",
        "import numpy as np\n",
        "import pandas as pd\n",
        "import seaborn as sns\n",
        "import matplotlib.pyplot as plt\n",
        "from sklearn.datasets import fetch_openml\n",
        "from sklearn.model_selection import train_test_split\n",
        "from sklearn.linear_model import LogisticRegression\n",
        "from sklearn.metrics import accuracy_score"
      ],
      "execution_count": 2,
      "outputs": []
    },
    {
      "cell_type": "code",
      "metadata": {
        "colab": {
          "base_uri": "https://localhost:8080/"
        },
        "id": "I_973fDL_OV1",
        "outputId": "dc04235f-2a0d-4001-a8f0-4c46401dd3a5"
      },
      "source": [
        "X,y=fetch_openml('mnist_784',version=1,return_X_y=True)\n",
        "print(pd.Series(y).value_counts())\n",
        "classes=['0','1','2','3','4','5','6','7','8','9']\n",
        "nclasses=len(classes)"
      ],
      "execution_count": 11,
      "outputs": [
        {
          "output_type": "stream",
          "name": "stdout",
          "text": [
            "1    7877\n",
            "7    7293\n",
            "3    7141\n",
            "2    6990\n",
            "9    6958\n",
            "0    6903\n",
            "6    6876\n",
            "8    6825\n",
            "4    6824\n",
            "5    6313\n",
            "dtype: int64\n"
          ]
        }
      ]
    },
    {
      "cell_type": "code",
      "metadata": {
        "id": "1R26D1qt_5d1"
      },
      "source": [
        "X_train,X_test,y_train,y_test=train_test_split(X,y,random_state=9,train_size=7500,test_size=2500)\n",
        "X_train_scaled=X_train/255.0\n",
        "X_test_scaled=X_test/255.0"
      ],
      "execution_count": 5,
      "outputs": []
    },
    {
      "cell_type": "code",
      "metadata": {
        "colab": {
          "base_uri": "https://localhost:8080/"
        },
        "id": "nDzZZdyXAtJb",
        "outputId": "07e1f827-8330-4003-ebf7-00a8ce0c9d9d"
      },
      "source": [
        "clf=LogisticRegression(solver=\"saga\",multi_class=\"multinomial\").fit(X_train_scaled,y_train)"
      ],
      "execution_count": 6,
      "outputs": [
        {
          "output_type": "stream",
          "name": "stderr",
          "text": [
            "/usr/local/lib/python3.7/dist-packages/sklearn/linear_model/_sag.py:330: ConvergenceWarning: The max_iter was reached which means the coef_ did not converge\n",
            "  \"the coef_ did not converge\", ConvergenceWarning)\n"
          ]
        }
      ]
    },
    {
      "cell_type": "code",
      "metadata": {
        "id": "haEWqJ08BcGp"
      },
      "source": [
        "y_pred=clf.predict(X_test_scaled)\n",
        "accuracy=accuracy_score(y_test,y_pred)\n",
        "print(accuracy)\n"
      ],
      "execution_count": null,
      "outputs": []
    },
    {
      "cell_type": "code",
      "metadata": {
        "colab": {
          "base_uri": "https://localhost:8080/",
          "height": 606
        },
        "id": "NeHGM1rIB1du",
        "outputId": "d218c198-1f1d-42f8-a7c6-f3dd5974ebb6"
      },
      "source": [
        "cm=pd.crosstab(y_test,y_pred,rownames=['Actual'],colnames=['predicted'])\n",
        "p=plt.figure(figsize=(10,10))\n",
        "p=sns.heatmap(cm,annot=True,fmt=\"d\",cbar=False)\n"
      ],
      "execution_count": 8,
      "outputs": [
        {
          "output_type": "display_data",
          "data": {
            "image/png": "[encoded data removed]",
            "text/plain": [
              "<Figure size 720x720 with 1 Axes>"
            ]
          },
          "metadata": {
            "needs_background": "light"
          }
        }
      ]
    },
    {
      "cell_type": "code",
      "metadata": {
        "colab": {
          "base_uri": "https://localhost:8080/",
          "height": 683
        },
        "id": "FLmzb4mKD89w",
        "outputId": "a0a48cb8-6c34-42e5-c9f3-ccd4891f9287"
      },
      "source": [
        "samples_per_class = 5 \n",
        "figure = plt.figure(figsize=(nclasses*2,(1+samples_per_class*2))) \n",
        "idx_cls = 0 \n",
        "for cls in classes:\n",
        " idxs = np.flatnonzero(y == cls) \n",
        " idxs = np.random.choice(idxs, samples_per_class, replace=False) \n",
        " i = 0 \n",
        " for idx in idxs: \n",
        "  plt_idx = i * nclasses + idx_cls + 1 \n",
        "  p = plt.subplot(samples_per_class, nclasses, plt_idx);\n",
        "  p = sns.heatmap(np.reshape(X[idx], (28,28)), cmap=plt.cm.gray, xticklabels=False, yticklabels=False, cbar=False);\n",
        "  p = plt.axis('off'); \n",
        "  i += 1 \n",
        "idx_cls += 1"
      ],
      "execution_count": 12,
      "outputs": [
        {
          "output_type": "stream",
          "name": "stderr",
          "text": [
            "/usr/local/lib/python3.7/dist-packages/ipykernel_launcher.py:10: MatplotlibDeprecationWarning: Adding an axes using the same arguments as a previous axes currently reuses the earlier instance.  In a future version, a new instance will always be created and returned.  Meanwhile, this warning can be suppressed, and the future behavior ensured, by passing a unique label to each axes instance.\n",
            "  # Remove the CWD from sys.path while we load stuff.\n"
          ]
        },
        {
          "output_type": "display_data",
          "data": {
            "image/png": "[encoded data removed]",
            "text/plain": [
              "<Figure size 1440x792 with 5 Axes>"
            ]
          },
          "metadata": {}
        }
      ]
    }
  ]
}