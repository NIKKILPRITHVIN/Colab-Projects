{
  "nbformat": 4,
  "nbformat_minor": 0,
  "metadata": {
    "colab": {
      "name": "Multilinear Logistic regression.ipynb",
      "provenance": [],
      "authorship_tag": "ABX9TyMwCX9/qFbte/3j7Jeds8IA",
      "include_colab_link": true
    },
    "kernelspec": {
      "name": "python3",
      "display_name": "Python 3"
    },
    "language_info": {
      "name": "python"
    }
  },
  "cells": [
    {
      "cell_type": "markdown",
      "metadata": {
        "id": "view-in-github",
        "colab_type": "text"
      },
      "source": [
        "<a href=\"https://colab.research.google.com/github/NIKKILPRITHVIN/Colab-Projects/blob/main/Multilinear_Logistic_regression.ipynb\" target=\"_parent\"><img src=\"https://colab.research.google.com/assets/colab-badge.svg\" alt=\"Open In Colab\"/></a>"
      ]
    },
    {
      "cell_type": "code",
      "metadata": {
        "id": "swySpLBH0I6y"
      },
      "source": [
        "import pandas as pd\n",
        "import plotly.express as px\n",
        "df=pd.read_csv(\"logistics_data.csv\")\n",
        "salary=df[\"EstimatedSalary\"].tolist()\n",
        "purchased=df[\"Purchased\"].tolist()\n",
        "print(len(salary))\n",
        "fig=px.scatter(x=salary,y=purchased)\n",
        "fig.show()\n"
      ],
      "execution_count": null,
      "outputs": []
    },
    {
      "cell_type": "code",
      "metadata": {
        "id": "hTV5K2pp1lZ5"
      },
      "source": [
        "import plotly.graph_objects as go\n",
        "salaries=df[\"EstimatedSalary\"].tolist()\n",
        "ages=df[\"Age\"].tolist()\n",
        "purchased=df[\"Purchased\"].tolist()\n",
        "colors=[]\n",
        "for data in purchased:\n",
        "  if data==1:\n",
        "    colors.append(\"green\")\n",
        "  else:\n",
        "    colors.append(\"red\")\n",
        "fig=go.Figure(data=go.Scatter(x=salaries,y=ages,mode='markers',marker=dict(color=colors)))\n",
        "fig.show()\n",
        "\n"
      ],
      "execution_count": null,
      "outputs": []
    },
    {
      "cell_type": "code",
      "metadata": {
        "id": "bSEkKXNB3KaN"
      },
      "source": [
        "factors=df[[\"EstimatedSalary\",\"Age\"]]\n",
        "purchases=df[\"Purchased\"]\n",
        "from sklearn.model_selection import train_test_split\n",
        "salary_train,salary_test,purchase_train,purchase_test=train_test_split(factors,purchases,test_size=0.25,random_state=0)\n",
        "print(salary_train[0:10])\n",
        "from sklearn.preprocessing import StandardScaler\n",
        "sc_x=StandardScaler()\n",
        "salary_train=sc_x.fit_transform(salary_train)\n",
        "salary_test=sc_x.fit_transform(salary_test)\n",
        "print(salary_train[0:10])\n"
      ],
      "execution_count": null,
      "outputs": []
    },
    {
      "cell_type": "code",
      "metadata": {
        "colab": {
          "base_uri": "https://localhost:8080/"
        },
        "id": "Z70HrAlj6bJz",
        "outputId": "58e23950-92ec-4f64-8dc7-cf09f41e7c7d"
      },
      "source": [
        "from sklearn.linear_model import LogisticRegression\n",
        "classifier=LogisticRegression(random_state=0)\n",
        "classifier.fit(salary_train,purchase_train)\n",
        "\n"
      ],
      "execution_count": 8,
      "outputs": [
        {
          "output_type": "execute_result",
          "data": {
            "text/plain": [
              "LogisticRegression(C=1.0, class_weight=None, dual=False, fit_intercept=True,\n",
              "                   intercept_scaling=1, l1_ratio=None, max_iter=100,\n",
              "                   multi_class='auto', n_jobs=None, penalty='l2',\n",
              "                   random_state=0, solver='lbfgs', tol=0.0001, verbose=0,\n",
              "                   warm_start=False)"
            ]
          },
          "metadata": {},
          "execution_count": 8
        }
      ]
    },
    {
      "cell_type": "code",
      "metadata": {
        "colab": {
          "base_uri": "https://localhost:8080/"
        },
        "id": "bcZlGhkY6-aR",
        "outputId": "fbd36d8d-ecf4-409f-e307-b93ae6b2d619"
      },
      "source": [
        "purchase_pred=classifier.predict(salary_test)\n",
        "from sklearn.metrics import accuracy_score\n",
        "print(\"accuracy:\",accuracy_score(purchase_test,purchase_pred))"
      ],
      "execution_count": 9,
      "outputs": [
        {
          "output_type": "stream",
          "text": [
            "accuracy: 0.87\n"
          ],
          "name": "stdout"
        }
      ]
    },
    {
      "cell_type": "code",
      "metadata": {
        "colab": {
          "base_uri": "https://localhost:8080/"
        },
        "id": "e6TjLsjq7uxb",
        "outputId": "15fee2bf-6d33-4026-c621-368690bdff66"
      },
      "source": [
        "user_age=int (input(\"Enter Age of the Customer\"))\n",
        "user_salary=int (input(\"Enter Salary of the Customer\"))\n",
        "user_test=sc_x.transform([[user_salary,user_age]])\n",
        "user_purchase_pred=classifier.predict(user_test)\n",
        "if user_purchase_pred[0]==1:\n",
        "  print(\"Customer May Purchase the Product\")\n",
        "else:\n",
        "  print(\"Customer May Not Purchase the Product\")\n"
      ],
      "execution_count": 13,
      "outputs": [
        {
          "output_type": "stream",
          "text": [
            "Enter Age of the Customer23\n",
            "Enter Salary of the Customer1400000\n",
            "Customer May Purchase the Product\n"
          ],
          "name": "stdout"
        }
      ]
    }
  ]
}