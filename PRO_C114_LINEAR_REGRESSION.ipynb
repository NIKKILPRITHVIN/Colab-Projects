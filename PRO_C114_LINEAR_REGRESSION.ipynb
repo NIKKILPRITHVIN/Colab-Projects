{
  "nbformat": 4,
  "nbformat_minor": 0,
  "metadata": {
    "colab": {
      "name": "PRO-C114: LINEAR REGRESSION.ipynb",
      "provenance": [],
      "authorship_tag": "ABX9TyMaTrjIHo19eE76/t5Uy1M9",
      "include_colab_link": true
    },
    "kernelspec": {
      "name": "python3",
      "display_name": "Python 3"
    },
    "language_info": {
      "name": "python"
    }
  },
  "cells": [
    {
      "cell_type": "markdown",
      "metadata": {
        "id": "view-in-github",
        "colab_type": "text"
      },
      "source": [
        "<a href=\"https://colab.research.google.com/github/NIKKILPRITHVIN/Colab-Projects/blob/main/PRO_C114_LINEAR_REGRESSION.ipynb\" target=\"_parent\"><img src=\"https://colab.research.google.com/assets/colab-badge.svg\" alt=\"Open In Colab\"/></a>"
      ]
    },
    {
      "cell_type": "code",
      "metadata": {
        "id": "2hDaoQ-K5gzk"
      },
      "source": [
        "from google.colab import files\n",
        "data_to_load = files.upload()"
      ],
      "execution_count": null,
      "outputs": []
    },
    {
      "cell_type": "code",
      "metadata": {
        "id": "c72gTeQ05sTh"
      },
      "source": [
        "import pandas as pd\n",
        "import plotly.express as px\n",
        "\n",
        "df = pd.read_csv(\"main.csv\")\n",
        "\n",
        "TOEFL_Score = df[\"TOEFL Score\"].tolist()\n",
        "Chances_of_admit = df[\"Chance of Admit \"].tolist()\n",
        "\n",
        "fig = px.scatter(x=TOEFL_Score, y=Chances_of_admit)\n",
        "fig.show()"
      ],
      "execution_count": null,
      "outputs": []
    },
    {
      "cell_type": "code",
      "metadata": {
        "id": "xpr3K4395vU-"
      },
      "source": [
        "m = 1\n",
        "c = 0\n",
        "y = []\n",
        "for x in TOEFL_Score:\n",
        "  y_value = m*x + c\n",
        "  y.append(y_value)\n",
        "\n",
        "#Plotting the points\n",
        "fig = px.scatter(x=TOEFL_Score, y=Chances_of_admit)\n",
        "fig.update_layout(shapes=[\n",
        "    dict(\n",
        "      type= 'line',\n",
        "      y0= min(y), y1= max(y),\n",
        "      x0= min(TOEFL_Score), x1= max(TOEFL_Score)\n",
        "    )\n",
        "])\n",
        "fig.show()\n"
      ],
      "execution_count": null,
      "outputs": []
    },
    {
      "cell_type": "code",
      "metadata": {
        "id": "ZDriHmWi5ybb"
      },
      "source": [
        "m = 0.018\n",
        "c = -1.27\n",
        "y = []\n",
        "for x in TOEFL_Score:\n",
        "  y_value = m*x + c\n",
        "  y.append(y_value)\n",
        "\n",
        "#Plotting the points\n",
        "fig = px.scatter(x=TOEFL_Score, y=Chances_of_admit)\n",
        "fig.update_layout(shapes=[\n",
        "    dict(\n",
        "      type= 'line',\n",
        "      y0= min(y), y1= max(y),\n",
        "      x0= min(TOEFL_Score), x1= max(TOEFL_Score)\n",
        "    )\n",
        "])\n",
        "fig.show()\n"
      ],
      "execution_count": null,
      "outputs": []
    },
    {
      "cell_type": "code",
      "metadata": {
        "id": "rLTcpV-f52Ol"
      },
      "source": [
        "x = 250\n",
        "y = m * x + c\n",
        "print(f\"Chances of admit if the TOEFL score {x} is {y}\")"
      ],
      "execution_count": null,
      "outputs": []
    },
    {
      "cell_type": "code",
      "metadata": {
        "id": "eWQ3OOrO54nO"
      },
      "source": [
        "import numpy as np\n",
        "TOEFL_array = np.array(TOEFL_Score)\n",
        "Chances_array = np.array(Chances_of_admit)\n",
        "\n",
        "#Slope and intercept using pre-built function of Numpy\n",
        "m, c = np.polyfit(TOEFL_array, Chances_array, 1)\n",
        "y = []\n",
        "for x in TOEFL_array:\n",
        "  y_value = m*x + c\n",
        "  y.append(y_value)\n",
        "\n",
        "#Plotting the points\n",
        "fig = px.scatter(x=TOEFL_array, y=Chances_array)\n",
        "fig.update_layout(shapes=[\n",
        "    dict(\n",
        "      type= 'line',\n",
        "      y0= min(y), y1= max(y),\n",
        "      x0= min(TOEFL_array), x1= max(TOEFL_array)\n",
        "    )\n",
        "])\n",
        "fig.show()"
      ],
      "execution_count": null,
      "outputs": []
    },
    {
      "cell_type": "code",
      "metadata": {
        "id": "-ie7Lc4157Pj"
      },
      "source": [
        "x = 250\n",
        "y = m * x + c\n",
        "print(f\"Chances of admit if the TOEFL score {x} is {y}\")"
      ],
      "execution_count": null,
      "outputs": []
    }
  ]
}